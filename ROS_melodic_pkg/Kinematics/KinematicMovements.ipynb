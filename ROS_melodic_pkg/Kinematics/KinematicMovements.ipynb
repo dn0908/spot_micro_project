{
  "cells": [
    {
      "cell_type": "markdown",
      "metadata": {},
      "source": [
        "# Solving first kinematic Movements\n",
        "\n",
        "We can now control the Robots Legs using XYZ-Coordinates. \n",
        "The next small step will be to define some kind of kinematic motion segments.\n",
        "\n",
        "First goal is to:\n",
        "1. set the robo-dog in a \"wait/sleep\"-position, \n",
        "2. then let it stand up keeping the same feet-position\n",
        "3. and then put the feet on new/more wider and stable positions\n",
        "\n"
      ]
    },
    {
      "cell_type": "code",
      "execution_count": 5,
      "metadata": {},
      "outputs": [
        {
          "name": "stdout",
          "output_type": "stream",
          "text": [
            "b3Warning[examples/Importers/ImportURDFDemo/BulletUrdfImporter.cpp,152]:\n",
            "URDF file '/urdf/spotmicroai_gen.urdf.xml' not found\n"
          ]
        },
        {
          "ename": "error",
          "evalue": "Cannot load URDF file.",
          "output_type": "error",
          "traceback": [
            "\u001b[0;31m---------------------------------------------------------------------------\u001b[0m",
            "\u001b[0;31merror\u001b[0m                                     Traceback (most recent call last)",
            "\u001b[1;32m/home/minjun/dummy/spot_micro_project/ROS_melodic_pkg/Kinematics/KinematicMovements.ipynb Cell 2'\u001b[0m in \u001b[0;36m<cell line: 15>\u001b[0;34m()\u001b[0m\n\u001b[1;32m     <a href='vscode-notebook-cell:/home/minjun/dummy/spot_micro_project/ROS_melodic_pkg/Kinematics/KinematicMovements.ipynb#ch0000001?line=10'>11</a>\u001b[0m p\u001b[39m.\u001b[39msetAdditionalSearchPath(pybullet_data\u001b[39m.\u001b[39mgetDataPath())\n\u001b[1;32m     <a href='vscode-notebook-cell:/home/minjun/dummy/spot_micro_project/ROS_melodic_pkg/Kinematics/KinematicMovements.ipynb#ch0000001?line=12'>13</a>\u001b[0m p\u001b[39m.\u001b[39mloadURDF(\u001b[39m\"\u001b[39m\u001b[39mplane.urdf\u001b[39m\u001b[39m\"\u001b[39m)\n\u001b[0;32m---> <a href='vscode-notebook-cell:/home/minjun/dummy/spot_micro_project/ROS_melodic_pkg/Kinematics/KinematicMovements.ipynb#ch0000001?line=14'>15</a>\u001b[0m quadruped \u001b[39m=\u001b[39m p\u001b[39m.\u001b[39;49mloadURDF(\u001b[39m\"\u001b[39;49m\u001b[39m/urdf/spotmicroai_gen.urdf.xml\u001b[39;49m\u001b[39m\"\u001b[39;49m, (\u001b[39m0\u001b[39;49m,\u001b[39m0\u001b[39;49m,\u001b[39m0.2\u001b[39;49m),\n\u001b[1;32m     <a href='vscode-notebook-cell:/home/minjun/dummy/spot_micro_project/ROS_melodic_pkg/Kinematics/KinematicMovements.ipynb#ch0000001?line=15'>16</a>\u001b[0m                     (\u001b[39m0\u001b[39;49m,\u001b[39m0\u001b[39;49m,\u001b[39m0\u001b[39;49m,\u001b[39m1\u001b[39;49m), \n\u001b[1;32m     <a href='vscode-notebook-cell:/home/minjun/dummy/spot_micro_project/ROS_melodic_pkg/Kinematics/KinematicMovements.ipynb#ch0000001?line=16'>17</a>\u001b[0m                     useFixedBase\u001b[39m=\u001b[39;49m\u001b[39mFalse\u001b[39;49;00m,\n\u001b[1;32m     <a href='vscode-notebook-cell:/home/minjun/dummy/spot_micro_project/ROS_melodic_pkg/Kinematics/KinematicMovements.ipynb#ch0000001?line=17'>18</a>\u001b[0m                     useMaximalCoordinates\u001b[39m=\u001b[39;49m\u001b[39mFalse\u001b[39;49;00m,\n\u001b[1;32m     <a href='vscode-notebook-cell:/home/minjun/dummy/spot_micro_project/ROS_melodic_pkg/Kinematics/KinematicMovements.ipynb#ch0000001?line=18'>19</a>\u001b[0m                     flags\u001b[39m=\u001b[39;49mp\u001b[39m.\u001b[39;49mURDF_USE_IMPLICIT_CYLINDER)\n\u001b[1;32m     <a href='vscode-notebook-cell:/home/minjun/dummy/spot_micro_project/ROS_melodic_pkg/Kinematics/KinematicMovements.ipynb#ch0000001?line=19'>20</a>\u001b[0m p\u001b[39m.\u001b[39msetRealTimeSimulation(\u001b[39mFalse\u001b[39;00m)\n",
            "\u001b[0;31merror\u001b[0m: Cannot load URDF file."
          ]
        }
      ],
      "source": [
        "%matplotlib inline\n",
        "\n",
        "import matplotlib\n",
        "import numpy as np\n",
        "import matplotlib.pyplot as plt\n",
        "import pybullet as p\n",
        "import pybullet_data\n",
        "from kinematics import Kinematic\n",
        "\n",
        "p.connect(p.DIRECT)\n",
        "p.setAdditionalSearchPath(pybullet_data.getDataPath())\n",
        "\n",
        "p.loadURDF(\"plane.urdf\")\n",
        "\n",
        "quadruped = p.loadURDF(\"/urdf/spotmicroai_gen.urdf.xml\", (0,0,0.2),\n",
        "                    (0,0,0,1), \n",
        "                    useFixedBase=False,\n",
        "                    useMaximalCoordinates=False,\n",
        "                    flags=p.URDF_USE_IMPLICIT_CYLINDER)\n",
        "p.setRealTimeSimulation(False)"
      ]
    },
    {
      "cell_type": "code",
      "execution_count": null,
      "metadata": {},
      "outputs": [],
      "source": [
        "L=140\n",
        "W=75+5+40\n",
        "Lp = np.array([[120, -100,W/2, 1], [120, -100, -W/2, 1],[-50, -100, W/2, 1], [-50, -100, -W/2, 1]])\n",
        "\n",
        "kin = Kinematic()\n",
        "\n",
        "p.setGravity(0,0,-10)\n",
        "precision=5\n",
        "for i in range (10000):\n",
        "#    pos,orn = p.getBasePositionAndOrientation(r2d2)\n",
        "#    posmsg='pos = {posx:.{prec}f},{posy:.{prec}f},{posz:.{prec}f}   '.format(posx=pos[0],posy=pos[1],posz=pos[2], prec=precision)\n",
        "#    print(posmsg)\n",
        "    p.stepSimulation()\n",
        "p.stepSimulation()\n",
        "camTargetPos = [0,0,0]\n",
        "cameraUp = [0,0,1]\n",
        "cameraPos = [0.5,0.5,1]\n",
        "\n",
        "pitch = -10.0\n",
        "yaw = 60\n",
        "roll=0\n",
        "upAxisIndex = 2\n",
        "camDistance = 0.3\n",
        "pixelWidth = 640\n",
        "pixelHeight = 480\n",
        "nearPlane = 0.001\n",
        "farPlane = 100\n",
        "fov = 90\n",
        "viewMatrix = p.computeViewMatrixFromYawPitchRoll(camTargetPos, camDistance, yaw, pitch, roll, upAxisIndex)\n",
        "aspect = pixelWidth / pixelHeight;\n",
        "projectionMatrix = p.computeProjectionMatrixFOV(fov, aspect, nearPlane, farPlane);\n",
        "img_arr = p.getCameraImage(pixelWidth, pixelHeight, viewMatrix,projectionMatrix, shadow=1,lightDirection=[1,1,1])\n",
        "w=img_arr[0] #width of the image, in pixels\n",
        "h=img_arr[1] #height of the image, in pixels\n",
        "rgb=img_arr[2] #color data RGB\n",
        "plt.imshow(rgb,interpolation='none')\n",
        "plt.draw()\n",
        "plt.show()"
      ]
    },
    {
      "cell_type": "code",
      "execution_count": null,
      "metadata": {},
      "outputs": [],
      "source": []
    },
    {
      "cell_type": "code",
      "execution_count": null,
      "metadata": {},
      "outputs": [],
      "source": []
    },
    {
      "cell_type": "code",
      "execution_count": null,
      "metadata": {},
      "outputs": [],
      "source": []
    },
    {
      "cell_type": "code",
      "execution_count": null,
      "metadata": {},
      "outputs": [],
      "source": []
    }
  ],
  "metadata": {
    "interpreter": {
      "hash": "e7370f93d1d0cde622a1f8e1c04877d8463912d04d973331ad4851f04de6915a"
    },
    "kernel_info": {
      "name": "python3"
    },
    "kernelspec": {
      "display_name": "Python 3.8.10 64-bit",
      "language": "python",
      "name": "python3"
    },
    "language_info": {
      "codemirror_mode": {
        "name": "ipython",
        "version": 3
      },
      "file_extension": ".py",
      "mimetype": "text/x-python",
      "name": "python",
      "nbconvert_exporter": "python",
      "pygments_lexer": "ipython3",
      "version": "3.8.10"
    },
    "nteract": {
      "version": "0.15.0"
    }
  },
  "nbformat": 4,
  "nbformat_minor": 2
}
